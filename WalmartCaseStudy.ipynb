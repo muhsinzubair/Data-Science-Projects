{
  "nbformat": 4,
  "nbformat_minor": 0,
  "metadata": {
    "colab": {
      "provenance": [],
      "authorship_tag": "ABX9TyNVsivWQJSfEW2af0INz0gb",
      "include_colab_link": true
    },
    "kernelspec": {
      "name": "python3",
      "display_name": "Python 3"
    },
    "language_info": {
      "name": "python"
    }
  },
  "cells": [
    {
      "cell_type": "markdown",
      "metadata": {
        "id": "view-in-github",
        "colab_type": "text"
      },
      "source": [
        "<a href=\"https://colab.research.google.com/github/muhsinzubair/Data-Science-Projects/blob/main/WalmartCaseStudy.ipynb\" target=\"_parent\"><img src=\"https://colab.research.google.com/assets/colab-badge.svg\" alt=\"Open In Colab\"/></a>"
      ]
    },
    {
      "cell_type": "markdown",
      "source": [
        "# Walmart CaseStudy"
      ],
      "metadata": {
        "id": "RlP_muEVeZfu"
      }
    },
    {
      "cell_type": "code",
      "execution_count": null,
      "metadata": {
        "id": "WeFKVasbBIiI"
      },
      "outputs": [],
      "source": [
        "import pandas as pd\n",
        "import numpy as np\n",
        "import matplotlib.pyplot as plt\n",
        "import seaborn as sns"
      ]
    },
    {
      "cell_type": "code",
      "source": [
        "!wget https://d2beiqkhq929f0.cloudfront.net/public_assets/assets/000/001/293/original/walmart_data.csv?1641285094 -O walmart.csv"
      ],
      "metadata": {
        "colab": {
          "base_uri": "https://localhost:8080/"
        },
        "id": "oLP0_qs0BeV3",
        "outputId": "395484a2-b24f-4fff-da60-d049d20ff7d5"
      },
      "execution_count": null,
      "outputs": [
        {
          "output_type": "stream",
          "name": "stdout",
          "text": [
            "--2023-04-29 16:10:15--  https://d2beiqkhq929f0.cloudfront.net/public_assets/assets/000/001/293/original/walmart_data.csv?1641285094\n",
            "Resolving d2beiqkhq929f0.cloudfront.net (d2beiqkhq929f0.cloudfront.net)... 18.172.139.210, 18.172.139.94, 18.172.139.46, ...\n",
            "Connecting to d2beiqkhq929f0.cloudfront.net (d2beiqkhq929f0.cloudfront.net)|18.172.139.210|:443... connected.\n",
            "HTTP request sent, awaiting response... 200 OK\n",
            "Length: 23027994 (22M) [text/plain]\n",
            "Saving to: ‘walmart.csv’\n",
            "\n",
            "walmart.csv         100%[===================>]  21.96M  51.6MB/s    in 0.4s    \n",
            "\n",
            "2023-04-29 16:10:16 (51.6 MB/s) - ‘walmart.csv’ saved [23027994/23027994]\n",
            "\n"
          ]
        }
      ]
    },
    {
      "cell_type": "markdown",
      "source": [
        "# Initial Analysis and Plotting"
      ],
      "metadata": {
        "id": "WOzSGd1zejLN"
      }
    },
    {
      "cell_type": "markdown",
      "source": [
        "**Data description:**\n",
        "\n",
        "Transactional data of customers who purchased products from the Walmart Stores during Black Friday\n",
        "\n",
        "**Business Problem:**\n",
        "\n",
        "The Management team at Walmart Inc. wants to analyze the customer purchase behavior (specifically, purchase amount) against the customer’s gender and the various other factors to help the business make better decisions. They want to understand if the spending habits differ between male and female customers: Do women spend more on Black Friday than men? (Assume 50 million customers are male and 50 million are female)"
      ],
      "metadata": {
        "id": "P0YuC-INEq8w"
      }
    },
    {
      "cell_type": "code",
      "source": [
        "df = pd.read_csv('walmart.csv')"
      ],
      "metadata": {
        "id": "l9gG0RPBBlbd"
      },
      "execution_count": null,
      "outputs": []
    },
    {
      "cell_type": "markdown",
      "source": [
        "**Preview of the data:**"
      ],
      "metadata": {
        "id": "lqwyukM9NMfV"
      }
    },
    {
      "cell_type": "code",
      "source": [
        "df.head()"
      ],
      "metadata": {
        "colab": {
          "base_uri": "https://localhost:8080/",
          "height": 206
        },
        "id": "LCgonKgNBptn",
        "outputId": "720107cf-f743-4fec-e053-28b73353505a"
      },
      "execution_count": null,
      "outputs": [
        {
          "output_type": "execute_result",
          "data": {
            "text/plain": [
              "   User_ID Product_ID Gender   Age  Occupation City_Category  \\\n",
              "0  1000001  P00069042      F  0-17          10             A   \n",
              "1  1000001  P00248942      F  0-17          10             A   \n",
              "2  1000001  P00087842      F  0-17          10             A   \n",
              "3  1000001  P00085442      F  0-17          10             A   \n",
              "4  1000002  P00285442      M   55+          16             C   \n",
              "\n",
              "  Stay_In_Current_City_Years  Marital_Status  Product_Category  Purchase  \n",
              "0                          2               0                 3      8370  \n",
              "1                          2               0                 1     15200  \n",
              "2                          2               0                12      1422  \n",
              "3                          2               0                12      1057  \n",
              "4                         4+               0                 8      7969  "
            ],
            "text/html": [
              "\n",
              "  <div id=\"df-102cd139-eda2-432d-a04e-0a9e2f0436ef\">\n",
              "    <div class=\"colab-df-container\">\n",
              "      <div>\n",
              "<style scoped>\n",
              "    .dataframe tbody tr th:only-of-type {\n",
              "        vertical-align: middle;\n",
              "    }\n",
              "\n",
              "    .dataframe tbody tr th {\n",
              "        vertical-align: top;\n",
              "    }\n",
              "\n",
              "    .dataframe thead th {\n",
              "        text-align: right;\n",
              "    }\n",
              "</style>\n",
              "<table border=\"1\" class=\"dataframe\">\n",
              "  <thead>\n",
              "    <tr style=\"text-align: right;\">\n",
              "      <th></th>\n",
              "      <th>User_ID</th>\n",
              "      <th>Product_ID</th>\n",
              "      <th>Gender</th>\n",
              "      <th>Age</th>\n",
              "      <th>Occupation</th>\n",
              "      <th>City_Category</th>\n",
              "      <th>Stay_In_Current_City_Years</th>\n",
              "      <th>Marital_Status</th>\n",
              "      <th>Product_Category</th>\n",
              "      <th>Purchase</th>\n",
              "    </tr>\n",
              "  </thead>\n",
              "  <tbody>\n",
              "    <tr>\n",
              "      <th>0</th>\n",
              "      <td>1000001</td>\n",
              "      <td>P00069042</td>\n",
              "      <td>F</td>\n",
              "      <td>0-17</td>\n",
              "      <td>10</td>\n",
              "      <td>A</td>\n",
              "      <td>2</td>\n",
              "      <td>0</td>\n",
              "      <td>3</td>\n",
              "      <td>8370</td>\n",
              "    </tr>\n",
              "    <tr>\n",
              "      <th>1</th>\n",
              "      <td>1000001</td>\n",
              "      <td>P00248942</td>\n",
              "      <td>F</td>\n",
              "      <td>0-17</td>\n",
              "      <td>10</td>\n",
              "      <td>A</td>\n",
              "      <td>2</td>\n",
              "      <td>0</td>\n",
              "      <td>1</td>\n",
              "      <td>15200</td>\n",
              "    </tr>\n",
              "    <tr>\n",
              "      <th>2</th>\n",
              "      <td>1000001</td>\n",
              "      <td>P00087842</td>\n",
              "      <td>F</td>\n",
              "      <td>0-17</td>\n",
              "      <td>10</td>\n",
              "      <td>A</td>\n",
              "      <td>2</td>\n",
              "      <td>0</td>\n",
              "      <td>12</td>\n",
              "      <td>1422</td>\n",
              "    </tr>\n",
              "    <tr>\n",
              "      <th>3</th>\n",
              "      <td>1000001</td>\n",
              "      <td>P00085442</td>\n",
              "      <td>F</td>\n",
              "      <td>0-17</td>\n",
              "      <td>10</td>\n",
              "      <td>A</td>\n",
              "      <td>2</td>\n",
              "      <td>0</td>\n",
              "      <td>12</td>\n",
              "      <td>1057</td>\n",
              "    </tr>\n",
              "    <tr>\n",
              "      <th>4</th>\n",
              "      <td>1000002</td>\n",
              "      <td>P00285442</td>\n",
              "      <td>M</td>\n",
              "      <td>55+</td>\n",
              "      <td>16</td>\n",
              "      <td>C</td>\n",
              "      <td>4+</td>\n",
              "      <td>0</td>\n",
              "      <td>8</td>\n",
              "      <td>7969</td>\n",
              "    </tr>\n",
              "  </tbody>\n",
              "</table>\n",
              "</div>\n",
              "      <button class=\"colab-df-convert\" onclick=\"convertToInteractive('df-102cd139-eda2-432d-a04e-0a9e2f0436ef')\"\n",
              "              title=\"Convert this dataframe to an interactive table.\"\n",
              "              style=\"display:none;\">\n",
              "        \n",
              "  <svg xmlns=\"http://www.w3.org/2000/svg\" height=\"24px\"viewBox=\"0 0 24 24\"\n",
              "       width=\"24px\">\n",
              "    <path d=\"M0 0h24v24H0V0z\" fill=\"none\"/>\n",
              "    <path d=\"M18.56 5.44l.94 2.06.94-2.06 2.06-.94-2.06-.94-.94-2.06-.94 2.06-2.06.94zm-11 1L8.5 8.5l.94-2.06 2.06-.94-2.06-.94L8.5 2.5l-.94 2.06-2.06.94zm10 10l.94 2.06.94-2.06 2.06-.94-2.06-.94-.94-2.06-.94 2.06-2.06.94z\"/><path d=\"M17.41 7.96l-1.37-1.37c-.4-.4-.92-.59-1.43-.59-.52 0-1.04.2-1.43.59L10.3 9.45l-7.72 7.72c-.78.78-.78 2.05 0 2.83L4 21.41c.39.39.9.59 1.41.59.51 0 1.02-.2 1.41-.59l7.78-7.78 2.81-2.81c.8-.78.8-2.07 0-2.86zM5.41 20L4 18.59l7.72-7.72 1.47 1.35L5.41 20z\"/>\n",
              "  </svg>\n",
              "      </button>\n",
              "      \n",
              "  <style>\n",
              "    .colab-df-container {\n",
              "      display:flex;\n",
              "      flex-wrap:wrap;\n",
              "      gap: 12px;\n",
              "    }\n",
              "\n",
              "    .colab-df-convert {\n",
              "      background-color: #E8F0FE;\n",
              "      border: none;\n",
              "      border-radius: 50%;\n",
              "      cursor: pointer;\n",
              "      display: none;\n",
              "      fill: #1967D2;\n",
              "      height: 32px;\n",
              "      padding: 0 0 0 0;\n",
              "      width: 32px;\n",
              "    }\n",
              "\n",
              "    .colab-df-convert:hover {\n",
              "      background-color: #E2EBFA;\n",
              "      box-shadow: 0px 1px 2px rgba(60, 64, 67, 0.3), 0px 1px 3px 1px rgba(60, 64, 67, 0.15);\n",
              "      fill: #174EA6;\n",
              "    }\n",
              "\n",
              "    [theme=dark] .colab-df-convert {\n",
              "      background-color: #3B4455;\n",
              "      fill: #D2E3FC;\n",
              "    }\n",
              "\n",
              "    [theme=dark] .colab-df-convert:hover {\n",
              "      background-color: #434B5C;\n",
              "      box-shadow: 0px 1px 3px 1px rgba(0, 0, 0, 0.15);\n",
              "      filter: drop-shadow(0px 1px 2px rgba(0, 0, 0, 0.3));\n",
              "      fill: #FFFFFF;\n",
              "    }\n",
              "  </style>\n",
              "\n",
              "      <script>\n",
              "        const buttonEl =\n",
              "          document.querySelector('#df-102cd139-eda2-432d-a04e-0a9e2f0436ef button.colab-df-convert');\n",
              "        buttonEl.style.display =\n",
              "          google.colab.kernel.accessAllowed ? 'block' : 'none';\n",
              "\n",
              "        async function convertToInteractive(key) {\n",
              "          const element = document.querySelector('#df-102cd139-eda2-432d-a04e-0a9e2f0436ef');\n",
              "          const dataTable =\n",
              "            await google.colab.kernel.invokeFunction('convertToInteractive',\n",
              "                                                     [key], {});\n",
              "          if (!dataTable) return;\n",
              "\n",
              "          const docLinkHtml = 'Like what you see? Visit the ' +\n",
              "            '<a target=\"_blank\" href=https://colab.research.google.com/notebooks/data_table.ipynb>data table notebook</a>'\n",
              "            + ' to learn more about interactive tables.';\n",
              "          element.innerHTML = '';\n",
              "          dataTable['output_type'] = 'display_data';\n",
              "          await google.colab.output.renderOutput(dataTable, element);\n",
              "          const docLink = document.createElement('div');\n",
              "          docLink.innerHTML = docLinkHtml;\n",
              "          element.appendChild(docLink);\n",
              "        }\n",
              "      </script>\n",
              "    </div>\n",
              "  </div>\n",
              "  "
            ]
          },
          "metadata": {},
          "execution_count": 76
        }
      ]
    },
    {
      "cell_type": "markdown",
      "source": [
        "**Shape of the data(rows and columns):**"
      ],
      "metadata": {
        "id": "odIXh1fiNTtE"
      }
    },
    {
      "cell_type": "code",
      "source": [
        "df.shape"
      ],
      "metadata": {
        "colab": {
          "base_uri": "https://localhost:8080/"
        },
        "id": "_SeecWGKEanM",
        "outputId": "7ad9a9a1-3f8b-444b-b3cc-8e8120726541"
      },
      "execution_count": null,
      "outputs": [
        {
          "output_type": "execute_result",
          "data": {
            "text/plain": [
              "(550068, 10)"
            ]
          },
          "metadata": {},
          "execution_count": 77
        }
      ]
    },
    {
      "cell_type": "markdown",
      "source": [
        "**Basic information on columns:**"
      ],
      "metadata": {
        "id": "LhmQT0oTNemo"
      }
    },
    {
      "cell_type": "code",
      "source": [
        "df.info()"
      ],
      "metadata": {
        "colab": {
          "base_uri": "https://localhost:8080/"
        },
        "id": "cJ5s6HGJBs6l",
        "outputId": "013a44c2-c477-44f0-c63a-90ce62e56d43"
      },
      "execution_count": null,
      "outputs": [
        {
          "output_type": "stream",
          "name": "stdout",
          "text": [
            "<class 'pandas.core.frame.DataFrame'>\n",
            "RangeIndex: 550068 entries, 0 to 550067\n",
            "Data columns (total 10 columns):\n",
            " #   Column                      Non-Null Count   Dtype \n",
            "---  ------                      --------------   ----- \n",
            " 0   User_ID                     550068 non-null  int64 \n",
            " 1   Product_ID                  550068 non-null  object\n",
            " 2   Gender                      550068 non-null  object\n",
            " 3   Age                         550068 non-null  object\n",
            " 4   Occupation                  550068 non-null  int64 \n",
            " 5   City_Category               550068 non-null  object\n",
            " 6   Stay_In_Current_City_Years  550068 non-null  object\n",
            " 7   Marital_Status              550068 non-null  int64 \n",
            " 8   Product_Category            550068 non-null  int64 \n",
            " 9   Purchase                    550068 non-null  int64 \n",
            "dtypes: int64(5), object(5)\n",
            "memory usage: 42.0+ MB\n"
          ]
        }
      ]
    },
    {
      "cell_type": "markdown",
      "source": [
        "**Description of columns:**\n",
        "\n",
        "User_ID:\tUser ID\n",
        "\n",
        "Product_ID:\tProduct ID\n",
        "\n",
        "Gender:\tSex of User\n",
        "\n",
        "Age:\tAge in bins\n",
        "\n",
        "Occupation:\tOccupation(Masked)\n",
        "\n",
        "City_Category:\tCategory of the City (A,B,C)\n",
        "\n",
        "StayInCurrentCityYears:\tNumber of years stay in current city\n",
        "\n",
        "Marital_Status:\tMarital Status\n",
        "\n",
        "ProductCategory:\tProduct Category (Masked)\n",
        "\n",
        "Purchase:\tPurchase Amount"
      ],
      "metadata": {
        "id": "VYyDJG2SECf9"
      }
    },
    {
      "cell_type": "markdown",
      "source": [
        "**Basic statistics on continuous columns:**"
      ],
      "metadata": {
        "id": "JEGFt7xwN3dp"
      }
    },
    {
      "cell_type": "code",
      "source": [
        "df.describe()"
      ],
      "metadata": {
        "colab": {
          "base_uri": "https://localhost:8080/",
          "height": 300
        },
        "id": "t3LrX3rlBxh4",
        "outputId": "91533bfd-6177-46af-b26e-25865cf6ff95"
      },
      "execution_count": null,
      "outputs": [
        {
          "output_type": "execute_result",
          "data": {
            "text/plain": [
              "            User_ID     Occupation  Marital_Status  Product_Category  \\\n",
              "count  5.500680e+05  550068.000000   550068.000000     550068.000000   \n",
              "mean   1.003029e+06       8.076707        0.409653          5.404270   \n",
              "std    1.727592e+03       6.522660        0.491770          3.936211   \n",
              "min    1.000001e+06       0.000000        0.000000          1.000000   \n",
              "25%    1.001516e+06       2.000000        0.000000          1.000000   \n",
              "50%    1.003077e+06       7.000000        0.000000          5.000000   \n",
              "75%    1.004478e+06      14.000000        1.000000          8.000000   \n",
              "max    1.006040e+06      20.000000        1.000000         20.000000   \n",
              "\n",
              "            Purchase  \n",
              "count  550068.000000  \n",
              "mean     9263.968713  \n",
              "std      5023.065394  \n",
              "min        12.000000  \n",
              "25%      5823.000000  \n",
              "50%      8047.000000  \n",
              "75%     12054.000000  \n",
              "max     23961.000000  "
            ],
            "text/html": [
              "\n",
              "  <div id=\"df-dd25a42f-e1a9-41fc-b6c3-69938e27aa18\">\n",
              "    <div class=\"colab-df-container\">\n",
              "      <div>\n",
              "<style scoped>\n",
              "    .dataframe tbody tr th:only-of-type {\n",
              "        vertical-align: middle;\n",
              "    }\n",
              "\n",
              "    .dataframe tbody tr th {\n",
              "        vertical-align: top;\n",
              "    }\n",
              "\n",
              "    .dataframe thead th {\n",
              "        text-align: right;\n",
              "    }\n",
              "</style>\n",
              "<table border=\"1\" class=\"dataframe\">\n",
              "  <thead>\n",
              "    <tr style=\"text-align: right;\">\n",
              "      <th></th>\n",
              "      <th>User_ID</th>\n",
              "      <th>Occupation</th>\n",
              "      <th>Marital_Status</th>\n",
              "      <th>Product_Category</th>\n",
              "      <th>Purchase</th>\n",
              "    </tr>\n",
              "  </thead>\n",
              "  <tbody>\n",
              "    <tr>\n",
              "      <th>count</th>\n",
              "      <td>5.500680e+05</td>\n",
              "      <td>550068.000000</td>\n",
              "      <td>550068.000000</td>\n",
              "      <td>550068.000000</td>\n",
              "      <td>550068.000000</td>\n",
              "    </tr>\n",
              "    <tr>\n",
              "      <th>mean</th>\n",
              "      <td>1.003029e+06</td>\n",
              "      <td>8.076707</td>\n",
              "      <td>0.409653</td>\n",
              "      <td>5.404270</td>\n",
              "      <td>9263.968713</td>\n",
              "    </tr>\n",
              "    <tr>\n",
              "      <th>std</th>\n",
              "      <td>1.727592e+03</td>\n",
              "      <td>6.522660</td>\n",
              "      <td>0.491770</td>\n",
              "      <td>3.936211</td>\n",
              "      <td>5023.065394</td>\n",
              "    </tr>\n",
              "    <tr>\n",
              "      <th>min</th>\n",
              "      <td>1.000001e+06</td>\n",
              "      <td>0.000000</td>\n",
              "      <td>0.000000</td>\n",
              "      <td>1.000000</td>\n",
              "      <td>12.000000</td>\n",
              "    </tr>\n",
              "    <tr>\n",
              "      <th>25%</th>\n",
              "      <td>1.001516e+06</td>\n",
              "      <td>2.000000</td>\n",
              "      <td>0.000000</td>\n",
              "      <td>1.000000</td>\n",
              "      <td>5823.000000</td>\n",
              "    </tr>\n",
              "    <tr>\n",
              "      <th>50%</th>\n",
              "      <td>1.003077e+06</td>\n",
              "      <td>7.000000</td>\n",
              "      <td>0.000000</td>\n",
              "      <td>5.000000</td>\n",
              "      <td>8047.000000</td>\n",
              "    </tr>\n",
              "    <tr>\n",
              "      <th>75%</th>\n",
              "      <td>1.004478e+06</td>\n",
              "      <td>14.000000</td>\n",
              "      <td>1.000000</td>\n",
              "      <td>8.000000</td>\n",
              "      <td>12054.000000</td>\n",
              "    </tr>\n",
              "    <tr>\n",
              "      <th>max</th>\n",
              "      <td>1.006040e+06</td>\n",
              "      <td>20.000000</td>\n",
              "      <td>1.000000</td>\n",
              "      <td>20.000000</td>\n",
              "      <td>23961.000000</td>\n",
              "    </tr>\n",
              "  </tbody>\n",
              "</table>\n",
              "</div>\n",
              "      <button class=\"colab-df-convert\" onclick=\"convertToInteractive('df-dd25a42f-e1a9-41fc-b6c3-69938e27aa18')\"\n",
              "              title=\"Convert this dataframe to an interactive table.\"\n",
              "              style=\"display:none;\">\n",
              "        \n",
              "  <svg xmlns=\"http://www.w3.org/2000/svg\" height=\"24px\"viewBox=\"0 0 24 24\"\n",
              "       width=\"24px\">\n",
              "    <path d=\"M0 0h24v24H0V0z\" fill=\"none\"/>\n",
              "    <path d=\"M18.56 5.44l.94 2.06.94-2.06 2.06-.94-2.06-.94-.94-2.06-.94 2.06-2.06.94zm-11 1L8.5 8.5l.94-2.06 2.06-.94-2.06-.94L8.5 2.5l-.94 2.06-2.06.94zm10 10l.94 2.06.94-2.06 2.06-.94-2.06-.94-.94-2.06-.94 2.06-2.06.94z\"/><path d=\"M17.41 7.96l-1.37-1.37c-.4-.4-.92-.59-1.43-.59-.52 0-1.04.2-1.43.59L10.3 9.45l-7.72 7.72c-.78.78-.78 2.05 0 2.83L4 21.41c.39.39.9.59 1.41.59.51 0 1.02-.2 1.41-.59l7.78-7.78 2.81-2.81c.8-.78.8-2.07 0-2.86zM5.41 20L4 18.59l7.72-7.72 1.47 1.35L5.41 20z\"/>\n",
              "  </svg>\n",
              "      </button>\n",
              "      \n",
              "  <style>\n",
              "    .colab-df-container {\n",
              "      display:flex;\n",
              "      flex-wrap:wrap;\n",
              "      gap: 12px;\n",
              "    }\n",
              "\n",
              "    .colab-df-convert {\n",
              "      background-color: #E8F0FE;\n",
              "      border: none;\n",
              "      border-radius: 50%;\n",
              "      cursor: pointer;\n",
              "      display: none;\n",
              "      fill: #1967D2;\n",
              "      height: 32px;\n",
              "      padding: 0 0 0 0;\n",
              "      width: 32px;\n",
              "    }\n",
              "\n",
              "    .colab-df-convert:hover {\n",
              "      background-color: #E2EBFA;\n",
              "      box-shadow: 0px 1px 2px rgba(60, 64, 67, 0.3), 0px 1px 3px 1px rgba(60, 64, 67, 0.15);\n",
              "      fill: #174EA6;\n",
              "    }\n",
              "\n",
              "    [theme=dark] .colab-df-convert {\n",
              "      background-color: #3B4455;\n",
              "      fill: #D2E3FC;\n",
              "    }\n",
              "\n",
              "    [theme=dark] .colab-df-convert:hover {\n",
              "      background-color: #434B5C;\n",
              "      box-shadow: 0px 1px 3px 1px rgba(0, 0, 0, 0.15);\n",
              "      filter: drop-shadow(0px 1px 2px rgba(0, 0, 0, 0.3));\n",
              "      fill: #FFFFFF;\n",
              "    }\n",
              "  </style>\n",
              "\n",
              "      <script>\n",
              "        const buttonEl =\n",
              "          document.querySelector('#df-dd25a42f-e1a9-41fc-b6c3-69938e27aa18 button.colab-df-convert');\n",
              "        buttonEl.style.display =\n",
              "          google.colab.kernel.accessAllowed ? 'block' : 'none';\n",
              "\n",
              "        async function convertToInteractive(key) {\n",
              "          const element = document.querySelector('#df-dd25a42f-e1a9-41fc-b6c3-69938e27aa18');\n",
              "          const dataTable =\n",
              "            await google.colab.kernel.invokeFunction('convertToInteractive',\n",
              "                                                     [key], {});\n",
              "          if (!dataTable) return;\n",
              "\n",
              "          const docLinkHtml = 'Like what you see? Visit the ' +\n",
              "            '<a target=\"_blank\" href=https://colab.research.google.com/notebooks/data_table.ipynb>data table notebook</a>'\n",
              "            + ' to learn more about interactive tables.';\n",
              "          element.innerHTML = '';\n",
              "          dataTable['output_type'] = 'display_data';\n",
              "          await google.colab.output.renderOutput(dataTable, element);\n",
              "          const docLink = document.createElement('div');\n",
              "          docLink.innerHTML = docLinkHtml;\n",
              "          element.appendChild(docLink);\n",
              "        }\n",
              "      </script>\n",
              "    </div>\n",
              "  </div>\n",
              "  "
            ]
          },
          "metadata": {},
          "execution_count": 79
        }
      ]
    },
    {
      "cell_type": "markdown",
      "source": [
        "**Total no. of customers:**"
      ],
      "metadata": {
        "id": "BslZghnEcm2X"
      }
    },
    {
      "cell_type": "code",
      "source": [
        "df.User_ID.nunique()"
      ],
      "metadata": {
        "colab": {
          "base_uri": "https://localhost:8080/"
        },
        "id": "FFb1Q-nacin4",
        "outputId": "f65b0b8c-6b77-452a-839c-6f77135f3ab7"
      },
      "execution_count": null,
      "outputs": [
        {
          "output_type": "execute_result",
          "data": {
            "text/plain": [
              "5891"
            ]
          },
          "metadata": {},
          "execution_count": 172
        }
      ]
    },
    {
      "cell_type": "markdown",
      "source": [
        "**Histogram of Purchase columns(continuous):**"
      ],
      "metadata": {
        "id": "r9HOuHMjOFWv"
      }
    },
    {
      "cell_type": "code",
      "source": [
        "sns.histplot(df,x='Purchase')"
      ],
      "metadata": {
        "colab": {
          "base_uri": "https://localhost:8080/",
          "height": 466
        },
        "id": "G6049N2-M_W_",
        "outputId": "594e1488-ed6e-4466-e683-5ac0be571748"
      },
      "execution_count": null,
      "outputs": [
        {
          "output_type": "execute_result",
          "data": {
            "text/plain": [
              "<Axes: xlabel='Purchase', ylabel='Count'>"
            ]
          },
          "metadata": {},
          "execution_count": 80
        },
        {
          "output_type": "display_data",
          "data": {
            "text/plain": [
              "<Figure size 640x480 with 1 Axes>"
            ],
            "image/png": "[encoded data removed]"
          },
          "metadata": {}
        }
      ]
    },
    {
      "cell_type": "markdown",
      "source": [
        "**Observation:** most of the purchases lie between price of 5k and 10k"
      ],
      "metadata": {
        "id": "sldV4MDmOSB2"
      }
    },
    {
      "cell_type": "markdown",
      "source": [
        "**KDE plot of purchase column(continuous):**"
      ],
      "metadata": {
        "id": "V8xWHenpOm26"
      }
    },
    {
      "cell_type": "code",
      "source": [
        "sns.kdeplot(data=df,x='Purchase')"
      ],
      "metadata": {
        "colab": {
          "base_uri": "https://localhost:8080/",
          "height": 466
        },
        "id": "KzyJXvA2bexb",
        "outputId": "ae391c39-ee71-4f4f-a2ca-04b67561deb1"
      },
      "execution_count": null,
      "outputs": [
        {
          "output_type": "execute_result",
          "data": {
            "text/plain": [
              "<Axes: xlabel='Purchase', ylabel='Density'>"
            ]
          },
          "metadata": {},
          "execution_count": 81
        },
        {
          "output_type": "display_data",
          "data": {
            "text/plain": [
              "<Figure size 640x480 with 1 Axes>"
            ],
            "image/png": "[encoded data removed]"
          },
          "metadata": {}
        }
      ]
    },
    {
      "cell_type": "markdown",
      "source": [
        "**Total count of Male of Female customers:**\n",
        "\n",
        "count of female customers:"
      ],
      "metadata": {
        "id": "FrupXQN3O0cb"
      }
    },
    {
      "cell_type": "code",
      "source": [
        "df.query('Gender == \"F\"').User_ID.nunique()"
      ],
      "metadata": {
        "colab": {
          "base_uri": "https://localhost:8080/"
        },
        "id": "v8XmM_BVNNin",
        "outputId": "3b9914dc-5d9c-494b-88f2-c6ff86d6966c"
      },
      "execution_count": null,
      "outputs": [
        {
          "output_type": "execute_result",
          "data": {
            "text/plain": [
              "1666"
            ]
          },
          "metadata": {},
          "execution_count": 166
        }
      ]
    },
    {
      "cell_type": "markdown",
      "source": [
        "count of male customers:"
      ],
      "metadata": {
        "id": "8IIR8BCHb5IO"
      }
    },
    {
      "cell_type": "code",
      "source": [
        "df.query('Gender == \"M\"').User_ID.nunique()"
      ],
      "metadata": {
        "colab": {
          "base_uri": "https://localhost:8080/"
        },
        "id": "hxtp3ECvbwd8",
        "outputId": "74e33a04-6c28-46e9-aebe-3bccf1c3603d"
      },
      "execution_count": null,
      "outputs": [
        {
          "output_type": "execute_result",
          "data": {
            "text/plain": [
              "4225"
            ]
          },
          "metadata": {},
          "execution_count": 167
        }
      ]
    },
    {
      "cell_type": "markdown",
      "source": [
        "**Countplot on gender column(categorical):**"
      ],
      "metadata": {
        "id": "PnOWW2BeO9gh"
      }
    },
    {
      "cell_type": "code",
      "source": [
        "sns.countplot(data=df,x='Gender')"
      ],
      "metadata": {
        "colab": {
          "base_uri": "https://localhost:8080/",
          "height": 466
        },
        "id": "OQZj_4DoM0Yf",
        "outputId": "a5e3541b-88ec-4703-d265-43469e6fd9eb"
      },
      "execution_count": null,
      "outputs": [
        {
          "output_type": "execute_result",
          "data": {
            "text/plain": [
              "<Axes: xlabel='Gender', ylabel='count'>"
            ]
          },
          "metadata": {},
          "execution_count": 83
        },
        {
          "output_type": "display_data",
          "data": {
            "text/plain": [
              "<Figure size 640x480 with 1 Axes>"
            ],
            "image/png": "[encoded data removed]"
          },
          "metadata": {}
        }
      ]
    },
    {
      "cell_type": "markdown",
      "source": [
        "**Observation:** male customers are the large proportion of customers"
      ],
      "metadata": {
        "id": "iztSKZgaPEoA"
      }
    },
    {
      "cell_type": "markdown",
      "source": [
        "**Count of married and unmarried customers:**\n",
        "\n",
        "count of married customers:"
      ],
      "metadata": {
        "id": "S_1htBLebIS8"
      }
    },
    {
      "cell_type": "code",
      "source": [
        "df.query('Marital_Status == 1').User_ID.nunique()"
      ],
      "metadata": {
        "colab": {
          "base_uri": "https://localhost:8080/"
        },
        "id": "AvrJkNgXNwAA",
        "outputId": "1eaf1fa1-337c-4d8a-95d0-d21a5c39e445"
      },
      "execution_count": null,
      "outputs": [
        {
          "output_type": "execute_result",
          "data": {
            "text/plain": [
              "2474"
            ]
          },
          "metadata": {},
          "execution_count": 170
        }
      ]
    },
    {
      "cell_type": "markdown",
      "source": [
        "count of unmarried customers:"
      ],
      "metadata": {
        "id": "cT1IwOJIcWvJ"
      }
    },
    {
      "cell_type": "code",
      "source": [
        "df.query('Marital_Status == 0').User_ID.nunique()"
      ],
      "metadata": {
        "colab": {
          "base_uri": "https://localhost:8080/"
        },
        "id": "ous3KHpccZ7Y",
        "outputId": "258fb0a1-2f81-488a-f43a-fbe70a899d61"
      },
      "execution_count": null,
      "outputs": [
        {
          "output_type": "execute_result",
          "data": {
            "text/plain": [
              "3417"
            ]
          },
          "metadata": {},
          "execution_count": 171
        }
      ]
    },
    {
      "cell_type": "markdown",
      "source": [
        "**Countplot on marital status column(categorical):**"
      ],
      "metadata": {
        "id": "pdnGIx7McyBY"
      }
    },
    {
      "cell_type": "code",
      "source": [
        "sns.countplot(data=df,x='Marital_Status')"
      ],
      "metadata": {
        "colab": {
          "base_uri": "https://localhost:8080/",
          "height": 467
        },
        "id": "NEANpgIEN4KL",
        "outputId": "11382d5a-a744-4de6-8521-ccefc22ac6af"
      },
      "execution_count": null,
      "outputs": [
        {
          "output_type": "execute_result",
          "data": {
            "text/plain": [
              "<Axes: xlabel='Marital_Status', ylabel='count'>"
            ]
          },
          "metadata": {},
          "execution_count": 85
        },
        {
          "output_type": "display_data",
          "data": {
            "text/plain": [
              "<Figure size 640x480 with 1 Axes>"
            ],
            "image/png": "[encoded data removed]"
          },
          "metadata": {}
        }
      ]
    },
    {
      "cell_type": "markdown",
      "source": [
        "**Value counts based on age:**"
      ],
      "metadata": {
        "id": "hUkAicL6dJUM"
      }
    },
    {
      "cell_type": "code",
      "source": [
        "df['Age'].value_counts()"
      ],
      "metadata": {
        "colab": {
          "base_uri": "https://localhost:8080/"
        },
        "id": "MZPyCFqXOARS",
        "outputId": "64227387-830c-4a89-a536-75a033f02bca"
      },
      "execution_count": null,
      "outputs": [
        {
          "output_type": "execute_result",
          "data": {
            "text/plain": [
              "26-35    219587\n",
              "36-45    110013\n",
              "18-25     99660\n",
              "46-50     45701\n",
              "51-55     38501\n",
              "55+       21504\n",
              "0-17      15102\n",
              "Name: Age, dtype: int64"
            ]
          },
          "metadata": {},
          "execution_count": 86
        }
      ]
    },
    {
      "cell_type": "markdown",
      "source": [
        "**Countplot on age column(categorical):**"
      ],
      "metadata": {
        "id": "46elziOjdOec"
      }
    },
    {
      "cell_type": "code",
      "source": [
        "sns.countplot(data=df,x='Age')"
      ],
      "metadata": {
        "colab": {
          "base_uri": "https://localhost:8080/",
          "height": 466
        },
        "id": "TPEABlNbOGGX",
        "outputId": "d05c9a9e-d320-4d8a-cbf9-5329527d5564"
      },
      "execution_count": null,
      "outputs": [
        {
          "output_type": "execute_result",
          "data": {
            "text/plain": [
              "<Axes: xlabel='Age', ylabel='count'>"
            ]
          },
          "metadata": {},
          "execution_count": 87
        },
        {
          "output_type": "display_data",
          "data": {
            "text/plain": [
              "<Figure size 640x480 with 1 Axes>"
            ],
            "image/png": "[encoded data removed]"
          },
          "metadata": {}
        }
      ]
    },
    {
      "cell_type": "markdown",
      "source": [
        "**Observation:** Main customers are from age group of 26 t0 45"
      ],
      "metadata": {
        "id": "JxJNBvgwdbX-"
      }
    },
    {
      "cell_type": "code",
      "source": [
        "df['Stay_In_Current_City_Years'].unique()"
      ],
      "metadata": {
        "colab": {
          "base_uri": "https://localhost:8080/"
        },
        "id": "zDIOSC43OMLw",
        "outputId": "20eb240b-2910-40f4-9f11-e901e5adf2b9"
      },
      "execution_count": null,
      "outputs": [
        {
          "output_type": "execute_result",
          "data": {
            "text/plain": [
              "array(['2', '4+', '3', '1', '0'], dtype=object)"
            ]
          },
          "metadata": {},
          "execution_count": 88
        }
      ]
    },
    {
      "cell_type": "code",
      "source": [
        "df['Stay_In_Current_City_Years'].value_counts()"
      ],
      "metadata": {
        "colab": {
          "base_uri": "https://localhost:8080/"
        },
        "id": "2AxjQ8pMOnvE",
        "outputId": "7c85ddf1-a4a9-448d-8dff-0f66b5fcee53"
      },
      "execution_count": null,
      "outputs": [
        {
          "output_type": "execute_result",
          "data": {
            "text/plain": [
              "1     193821\n",
              "2     101838\n",
              "3      95285\n",
              "4+     84726\n",
              "0      74398\n",
              "Name: Stay_In_Current_City_Years, dtype: int64"
            ]
          },
          "metadata": {},
          "execution_count": 89
        }
      ]
    },
    {
      "cell_type": "markdown",
      "source": [
        "**Countplot on stay in city column(categorical):**"
      ],
      "metadata": {
        "id": "kaBQOjG8dkLZ"
      }
    },
    {
      "cell_type": "code",
      "source": [
        "sns.countplot(data=df,x='Stay_In_Current_City_Years')"
      ],
      "metadata": {
        "colab": {
          "base_uri": "https://localhost:8080/",
          "height": 467
        },
        "id": "MJ_mt2TqOtED",
        "outputId": "e8a3d90a-64d9-4260-9f39-e9b21e98afde"
      },
      "execution_count": null,
      "outputs": [
        {
          "output_type": "execute_result",
          "data": {
            "text/plain": [
              "<Axes: xlabel='Stay_In_Current_City_Years', ylabel='count'>"
            ]
          },
          "metadata": {},
          "execution_count": 90
        },
        {
          "output_type": "display_data",
          "data": {
            "text/plain": [
              "<Figure size 640x480 with 1 Axes>"
            ],
            "image/png": "[encoded data removed]"
          },
          "metadata": {}
        }
      ]
    },
    {
      "cell_type": "markdown",
      "source": [
        "**Observation:**  Most of the customers are new residents in the city"
      ],
      "metadata": {
        "id": "RT57kD7Udtps"
      }
    },
    {
      "cell_type": "code",
      "source": [
        "df['Occupation'].unique()"
      ],
      "metadata": {
        "colab": {
          "base_uri": "https://localhost:8080/"
        },
        "id": "znPh8mQ0O_he",
        "outputId": "32622063-91f0-4dff-aa28-019ce8337249"
      },
      "execution_count": null,
      "outputs": [
        {
          "output_type": "execute_result",
          "data": {
            "text/plain": [
              "array([10, 16, 15,  7, 20,  9,  1, 12, 17,  0,  3,  4, 11,  8, 19,  2, 18,\n",
              "        5, 14, 13,  6])"
            ]
          },
          "metadata": {},
          "execution_count": 91
        }
      ]
    },
    {
      "cell_type": "markdown",
      "source": [
        "**Boxplot on gender/purchase and indentifying outliers:**"
      ],
      "metadata": {
        "id": "GFFqKctsfCEC"
      }
    },
    {
      "cell_type": "code",
      "source": [
        "sns.boxplot(data=df,x='Gender',y='Purchase')"
      ],
      "metadata": {
        "colab": {
          "base_uri": "https://localhost:8080/",
          "height": 470
        },
        "id": "VE4_PmB8P5EK",
        "outputId": "6b986a48-46ad-4903-c197-a4a6ad55dc0e"
      },
      "execution_count": null,
      "outputs": [
        {
          "output_type": "execute_result",
          "data": {
            "text/plain": [
              "<Axes: xlabel='Gender', ylabel='Purchase'>"
            ]
          },
          "metadata": {},
          "execution_count": 94
        },
        {
          "output_type": "display_data",
          "data": {
            "text/plain": [
              "<Figure size 640x480 with 1 Axes>"
            ],
            "image/png": "[encoded data removed]"
          },
          "metadata": {}
        }
      ]
    },
    {
      "cell_type": "markdown",
      "source": [
        "Barplot on gender/purchase"
      ],
      "metadata": {
        "id": "fVJ5Inq2fOmI"
      }
    },
    {
      "cell_type": "code",
      "source": [
        "sns.barplot(data=df,x='Gender',y='Purchase')"
      ],
      "metadata": {
        "colab": {
          "base_uri": "https://localhost:8080/",
          "height": 466
        },
        "id": "Vazr_HnOQJie",
        "outputId": "350d4a3d-d6c7-4867-eeeb-d18279c4693d"
      },
      "execution_count": null,
      "outputs": [
        {
          "output_type": "execute_result",
          "data": {
            "text/plain": [
              "<Axes: xlabel='Gender', ylabel='Purchase'>"
            ]
          },
          "metadata": {},
          "execution_count": 95
        },
        {
          "output_type": "display_data",
          "data": {
            "text/plain": [
              "<Figure size 640x480 with 1 Axes>"
            ],
            "image/png": "[encoded data removed]"
          },
          "metadata": {}
        }
      ]
    },
    {
      "cell_type": "markdown",
      "source": [
        "**Boxplot on maritalstatus/purchase:**"
      ],
      "metadata": {
        "id": "mVvxsDHtfjKV"
      }
    },
    {
      "cell_type": "code",
      "source": [
        "sns.boxplot(data=df,x='Marital_Status',y='Purchase')"
      ],
      "metadata": {
        "colab": {
          "base_uri": "https://localhost:8080/",
          "height": 470
        },
        "id": "WA_GpILCfWqB",
        "outputId": "94edb725-ec0b-4575-8aac-2633a958331b"
      },
      "execution_count": null,
      "outputs": [
        {
          "output_type": "execute_result",
          "data": {
            "text/plain": [
              "<Axes: xlabel='Marital_Status', ylabel='Purchase'>"
            ]
          },
          "metadata": {},
          "execution_count": 173
        },
        {
          "output_type": "display_data",
          "data": {
            "text/plain": [
              "<Figure size 640x480 with 1 Axes>"
            ],
            "image/png": "[encoded data removed]"
          },
          "metadata": {}
        }
      ]
    },
    {
      "cell_type": "markdown",
      "source": [
        "**Boxplot on age/purchase:**"
      ],
      "metadata": {
        "id": "03X7jWkAfy_d"
      }
    },
    {
      "cell_type": "code",
      "source": [
        "sns.boxplot(data=df, x='Age',y='Purchase')"
      ],
      "metadata": {
        "colab": {
          "base_uri": "https://localhost:8080/",
          "height": 470
        },
        "id": "2WuU3x8gftgp",
        "outputId": "fbdc8536-202b-40de-f6ee-adc8d3f1bc0a"
      },
      "execution_count": null,
      "outputs": [
        {
          "output_type": "execute_result",
          "data": {
            "text/plain": [
              "<Axes: xlabel='Age', ylabel='Purchase'>"
            ]
          },
          "metadata": {},
          "execution_count": 174
        },
        {
          "output_type": "display_data",
          "data": {
            "text/plain": [
              "<Figure size 640x480 with 1 Axes>"
            ],
            "image/png": "[encoded data removed]"
          },
          "metadata": {}
        }
      ]
    },
    {
      "cell_type": "markdown",
      "source": [
        "# Confidence Intervals"
      ],
      "metadata": {
        "id": "umtLmtfmf_HX"
      }
    },
    {
      "cell_type": "markdown",
      "source": [
        "**Question: Confidence intervals and distribution of the mean of the expenses by female and male customers:**"
      ],
      "metadata": {
        "id": "PyVXZ_-O2E_I"
      }
    },
    {
      "cell_type": "markdown",
      "source": [
        "**Confidence interval for female customer spending:**"
      ],
      "metadata": {
        "id": "ltLrwC_bgJ0E"
      }
    },
    {
      "cell_type": "code",
      "source": [
        "f_purc_lis = df.query('Gender == \"F\"').Purchase\n",
        "sample_mean_lis_f = []\n",
        "for i in range(1000):\n",
        "  sample = np.random.choice(f_purc_lis,size=len(f_purc_lis))\n",
        "  samplemean = sample.mean()\n",
        "  sample_mean_lis_f.append(samplemean)\n"
      ],
      "metadata": {
        "id": "UAUQOBGHm32H"
      },
      "execution_count": null,
      "outputs": []
    },
    {
      "cell_type": "code",
      "source": [
        "f_purc_lis.mean()"
      ],
      "metadata": {
        "colab": {
          "base_uri": "https://localhost:8080/"
        },
        "id": "dcI6JNxGvc1I",
        "outputId": "52ac3d33-175b-42b3-ce8d-b64de5096990"
      },
      "execution_count": null,
      "outputs": [
        {
          "output_type": "execute_result",
          "data": {
            "text/plain": [
              "8734.565765155476"
            ]
          },
          "metadata": {},
          "execution_count": 102
        }
      ]
    },
    {
      "cell_type": "code",
      "source": [
        "sns.histplot(sample_mean_lis_f)"
      ],
      "metadata": {
        "colab": {
          "base_uri": "https://localhost:8080/",
          "height": 447
        },
        "id": "TLgwfjRQoU21",
        "outputId": "f115cb5a-fb5e-4410-83ca-d43580337889"
      },
      "execution_count": null,
      "outputs": [
        {
          "output_type": "execute_result",
          "data": {
            "text/plain": [
              "<Axes: ylabel='Count'>"
            ]
          },
          "metadata": {},
          "execution_count": 116
        },
        {
          "output_type": "display_data",
          "data": {
            "text/plain": [
              "<Figure size 640x480 with 1 Axes>"
            ],
            "image/png": "[encoded data removed]"
          },
          "metadata": {}
        }
      ]
    },
    {
      "cell_type": "markdown",
      "source": [
        "**90%**"
      ],
      "metadata": {
        "id": "ewsvYzf9gSLf"
      }
    },
    {
      "cell_type": "code",
      "source": [
        "np.percentile(sample_mean_lis_f,[5.0,95.0])"
      ],
      "metadata": {
        "colab": {
          "base_uri": "https://localhost:8080/"
        },
        "id": "Cn6LeVQoxS-v",
        "outputId": "11439de1-892e-41d9-db31-0bd78f560ba8"
      },
      "execution_count": null,
      "outputs": [
        {
          "output_type": "execute_result",
          "data": {
            "text/plain": [
              "array([8714.12133217, 8753.71023386])"
            ]
          },
          "metadata": {},
          "execution_count": 117
        }
      ]
    },
    {
      "cell_type": "markdown",
      "source": [
        "**95%**"
      ],
      "metadata": {
        "id": "gAz1Udd5gY8l"
      }
    },
    {
      "cell_type": "code",
      "source": [
        "np.percentile(sample_mean_lis_f,[2.5,97.5])"
      ],
      "metadata": {
        "colab": {
          "base_uri": "https://localhost:8080/"
        },
        "id": "8xgqOkeyodOZ",
        "outputId": "5078b918-f23a-458c-ca8a-c9da953a46ab"
      },
      "execution_count": null,
      "outputs": [
        {
          "output_type": "execute_result",
          "data": {
            "text/plain": [
              "array([8710.59965301, 8757.0151945 ])"
            ]
          },
          "metadata": {},
          "execution_count": 118
        }
      ]
    },
    {
      "cell_type": "markdown",
      "source": [
        "**99%**"
      ],
      "metadata": {
        "id": "NCcyytVUgchL"
      }
    },
    {
      "cell_type": "code",
      "source": [
        "np.percentile(sample_mean_lis_f,[.5,99.5])"
      ],
      "metadata": {
        "colab": {
          "base_uri": "https://localhost:8080/"
        },
        "id": "ByywX5H2w8zI",
        "outputId": "4e76d6c6-d49d-4053-a40d-84a3a3fbe536"
      },
      "execution_count": null,
      "outputs": [
        {
          "output_type": "execute_result",
          "data": {
            "text/plain": [
              "array([8702.82686858, 8765.8224403 ])"
            ]
          },
          "metadata": {},
          "execution_count": 119
        }
      ]
    },
    {
      "cell_type": "markdown",
      "source": [
        "**Confidence interval for male customer spending:**"
      ],
      "metadata": {
        "id": "nWfeAs1sgjAF"
      }
    },
    {
      "cell_type": "code",
      "source": [
        "m_purc_lis = df.query('Gender == \"M\"').Purchase\n",
        "sample_mean_lis_m = []\n",
        "for i in range(1000):\n",
        "  sample = np.random.choice(m_purc_lis,size=len(m_purc_lis))\n",
        "  samplemean = sample.mean()\n",
        "  sample_mean_lis_m.append(samplemean)"
      ],
      "metadata": {
        "id": "qxg-WqVDpEEf"
      },
      "execution_count": null,
      "outputs": []
    },
    {
      "cell_type": "code",
      "source": [
        "m_purc_lis.mean()"
      ],
      "metadata": {
        "colab": {
          "base_uri": "https://localhost:8080/"
        },
        "id": "HKlMt-LIv6LK",
        "outputId": "e0b5f31e-817b-480a-ad6d-29b2b3649fac"
      },
      "execution_count": null,
      "outputs": [
        {
          "output_type": "execute_result",
          "data": {
            "text/plain": [
              "9437.526040472265"
            ]
          },
          "metadata": {},
          "execution_count": 108
        }
      ]
    },
    {
      "cell_type": "code",
      "source": [
        "sns.histplot(sample_mean_lis_m)"
      ],
      "metadata": {
        "colab": {
          "base_uri": "https://localhost:8080/",
          "height": 447
        },
        "id": "Z7tFUxaRpQmn",
        "outputId": "bf4908cd-5544-4a90-f3fa-83f6ecbd30f9"
      },
      "execution_count": null,
      "outputs": [
        {
          "output_type": "execute_result",
          "data": {
            "text/plain": [
              "<Axes: ylabel='Count'>"
            ]
          },
          "metadata": {},
          "execution_count": 109
        },
        {
          "output_type": "display_data",
          "data": {
            "text/plain": [
              "<Figure size 640x480 with 1 Axes>"
            ],
            "image/png": "[encoded data removed]"
          },
          "metadata": {}
        }
      ]
    },
    {
      "cell_type": "markdown",
      "source": [
        "**90%**"
      ],
      "metadata": {
        "id": "7rSMzqOggrPN"
      }
    },
    {
      "cell_type": "code",
      "source": [
        "np.percentile(sample_mean_lis_m,[5.0,95.0])"
      ],
      "metadata": {
        "colab": {
          "base_uri": "https://localhost:8080/"
        },
        "id": "MiDM_e1Ixa16",
        "outputId": "e08d8ca6-ce8d-4cae-e5e6-25270c1408e6"
      },
      "execution_count": null,
      "outputs": [
        {
          "output_type": "execute_result",
          "data": {
            "text/plain": [
              "array([9424.34879472, 9450.13079837])"
            ]
          },
          "metadata": {},
          "execution_count": 110
        }
      ]
    },
    {
      "cell_type": "markdown",
      "source": [
        "**95%**"
      ],
      "metadata": {
        "id": "Hl6EF-ISgt0M"
      }
    },
    {
      "cell_type": "code",
      "source": [
        "np.percentile(sample_mean_lis_m,[2.5,97.5])"
      ],
      "metadata": {
        "colab": {
          "base_uri": "https://localhost:8080/"
        },
        "id": "Io3BvkK8pVQV",
        "outputId": "42eeecd8-d25f-4469-ccdc-0e48db151610"
      },
      "execution_count": null,
      "outputs": [
        {
          "output_type": "execute_result",
          "data": {
            "text/plain": [
              "array([9422.29600172, 9452.45757395])"
            ]
          },
          "metadata": {},
          "execution_count": 111
        }
      ]
    },
    {
      "cell_type": "markdown",
      "source": [
        "**99%**"
      ],
      "metadata": {
        "id": "OoVfEh2Ogwp_"
      }
    },
    {
      "cell_type": "code",
      "source": [
        "np.percentile(sample_mean_lis_m,[.5,99.5])"
      ],
      "metadata": {
        "colab": {
          "base_uri": "https://localhost:8080/"
        },
        "id": "8_5bqVwMxe_Q",
        "outputId": "06865c3f-db68-4df0-9ea8-8d52e1084fb2"
      },
      "execution_count": null,
      "outputs": [
        {
          "output_type": "execute_result",
          "data": {
            "text/plain": [
              "array([9417.84694104, 9457.33024833])"
            ]
          },
          "metadata": {},
          "execution_count": 112
        }
      ]
    },
    {
      "cell_type": "markdown",
      "source": [
        "**Question: Are women spending more money per transaction than men? Why or Why not?**\n",
        "\n",
        "**Answer: Men are spending more money than women, the reason may be the low participation of women customers compare to men.**"
      ],
      "metadata": {
        "id": "xC7adoBy1lpC"
      }
    },
    {
      "cell_type": "markdown",
      "source": [
        "**Question: Are confidence intervals of average male and female spending overlapping? How can Walmart leverage this conclusion to make changes or improvements?**\n",
        "\n",
        "**Answer: Confidence intervals of male female customers are not overlapping, clearly improvement is needed in participation of female customers**"
      ],
      "metadata": {
        "id": "hdPZMZ0T2Pw9"
      }
    },
    {
      "cell_type": "markdown",
      "source": [
        "**Variance of sample means based on sample size:**"
      ],
      "metadata": {
        "id": "MF4bHsFCg1kR"
      }
    },
    {
      "cell_type": "code",
      "source": [
        "sample_mean_lis_clt = []\n",
        "for i in range(5,1500):\n",
        "  sample = np.random.choice(f_purc_lis,size=i)\n",
        "  samplemean = sample.mean()\n",
        "  sample_mean_lis_clt.append(samplemean)\n",
        "plt.plot(sample_mean_lis_clt)"
      ],
      "metadata": {
        "colab": {
          "base_uri": "https://localhost:8080/",
          "height": 447
        },
        "id": "xIb6FjHwwHUT",
        "outputId": "66c79507-e6cf-4e52-f938-f8d7b6adfa6a"
      },
      "execution_count": null,
      "outputs": [
        {
          "output_type": "execute_result",
          "data": {
            "text/plain": [
              "[<matplotlib.lines.Line2D at 0x7f7d6ca91240>]"
            ]
          },
          "metadata": {},
          "execution_count": 120
        },
        {
          "output_type": "display_data",
          "data": {
            "text/plain": [
              "<Figure size 640x480 with 1 Axes>"
            ],
            "image/png": "[encoded data removed]"
          },
          "metadata": {}
        }
      ]
    },
    {
      "cell_type": "markdown",
      "source": [
        "**Confidence interval for unmarried customer spending:**"
      ],
      "metadata": {
        "id": "vA5fG4WLg9bW"
      }
    },
    {
      "cell_type": "code",
      "source": [
        "unmarried_purchase = df.query('Marital_Status == 0').Purchase"
      ],
      "metadata": {
        "id": "-t4wt3KDEVcc"
      },
      "execution_count": null,
      "outputs": []
    },
    {
      "cell_type": "code",
      "source": [
        "unmarried_purchase.mean()"
      ],
      "metadata": {
        "colab": {
          "base_uri": "https://localhost:8080/"
        },
        "id": "jL9ISBpKEtTB",
        "outputId": "cf77f963-43e9-4fbb-95b6-96b40831baf6"
      },
      "execution_count": null,
      "outputs": [
        {
          "output_type": "execute_result",
          "data": {
            "text/plain": [
              "9265.907618921507"
            ]
          },
          "metadata": {},
          "execution_count": 125
        }
      ]
    },
    {
      "cell_type": "code",
      "source": [
        "unmarried_sample_means = []\n",
        "for i in range(1000):\n",
        "  sample = np.random.choice(unmarried_purchase,size=len(unmarried_purchase))\n",
        "  samplemean = sample.mean()\n",
        "  unmarried_sample_means.append(samplemean)"
      ],
      "metadata": {
        "id": "xVw9uKrFE1Tu"
      },
      "execution_count": null,
      "outputs": []
    },
    {
      "cell_type": "code",
      "source": [
        "sns.histplot(unmarried_sample_means)"
      ],
      "metadata": {
        "colab": {
          "base_uri": "https://localhost:8080/",
          "height": 447
        },
        "id": "Y_a0msRCFcKM",
        "outputId": "f4d01080-8287-40ee-b4b3-e891bb564fad"
      },
      "execution_count": null,
      "outputs": [
        {
          "output_type": "execute_result",
          "data": {
            "text/plain": [
              "<Axes: ylabel='Count'>"
            ]
          },
          "metadata": {},
          "execution_count": 128
        },
        {
          "output_type": "display_data",
          "data": {
            "text/plain": [
              "<Figure size 640x480 with 1 Axes>"
            ],
            "image/png": "[encoded data removed]"
          },
          "metadata": {}
        }
      ]
    },
    {
      "cell_type": "markdown",
      "source": [
        "**90%**"
      ],
      "metadata": {
        "id": "BB3NPRkNhKTd"
      }
    },
    {
      "cell_type": "code",
      "source": [
        "np.percentile(unmarried_sample_means,[5.0,95.0])"
      ],
      "metadata": {
        "colab": {
          "base_uri": "https://localhost:8080/"
        },
        "id": "PKDrH8xaFhmw",
        "outputId": "6725329f-bb9a-4f35-de33-6bacae2be0fd"
      },
      "execution_count": null,
      "outputs": [
        {
          "output_type": "execute_result",
          "data": {
            "text/plain": [
              "array([9251.5697562 , 9280.23656134])"
            ]
          },
          "metadata": {},
          "execution_count": 129
        }
      ]
    },
    {
      "cell_type": "markdown",
      "source": [
        "**95%**"
      ],
      "metadata": {
        "id": "8fTQNJNlhMWX"
      }
    },
    {
      "cell_type": "code",
      "source": [
        "np.percentile(unmarried_sample_means,[2.5,97.5])"
      ],
      "metadata": {
        "colab": {
          "base_uri": "https://localhost:8080/"
        },
        "id": "1sqDJ4x2FuTs",
        "outputId": "89e9da2c-c615-4b49-a06a-286f4208d56a"
      },
      "execution_count": null,
      "outputs": [
        {
          "output_type": "execute_result",
          "data": {
            "text/plain": [
              "array([9249.47785421, 9283.25009   ])"
            ]
          },
          "metadata": {},
          "execution_count": 130
        }
      ]
    },
    {
      "cell_type": "markdown",
      "source": [
        "**99%**"
      ],
      "metadata": {
        "id": "OIIQJmtJhPHx"
      }
    },
    {
      "cell_type": "code",
      "source": [
        "np.percentile(unmarried_sample_means,[.5,99.5])"
      ],
      "metadata": {
        "colab": {
          "base_uri": "https://localhost:8080/"
        },
        "id": "5lho82NbFyVS",
        "outputId": "885c7a15-4e5b-4c8d-adcf-de87d56da10a"
      },
      "execution_count": null,
      "outputs": [
        {
          "output_type": "execute_result",
          "data": {
            "text/plain": [
              "array([9242.25756348, 9288.2853803 ])"
            ]
          },
          "metadata": {},
          "execution_count": 131
        }
      ]
    },
    {
      "cell_type": "markdown",
      "source": [
        "**Confidence interval for married customers:**"
      ],
      "metadata": {
        "id": "8gJ6c1hRhSx7"
      }
    },
    {
      "cell_type": "code",
      "source": [
        "married_purchase = df.query('Marital_Status == 1').Purchase"
      ],
      "metadata": {
        "id": "NUuXpuUDF-PX"
      },
      "execution_count": null,
      "outputs": []
    },
    {
      "cell_type": "code",
      "source": [
        "married_purchase.mean()"
      ],
      "metadata": {
        "colab": {
          "base_uri": "https://localhost:8080/"
        },
        "id": "TjxNNJOVGA8d",
        "outputId": "2d818fd2-ad41-42de-cd79-f884dd709530"
      },
      "execution_count": null,
      "outputs": [
        {
          "output_type": "execute_result",
          "data": {
            "text/plain": [
              "9261.174574082374"
            ]
          },
          "metadata": {},
          "execution_count": 133
        }
      ]
    },
    {
      "cell_type": "code",
      "source": [
        "married_sample_means = []\n",
        "for i in range(1000):\n",
        "  sample = np.random.choice(married_purchase,size=len(married_purchase))\n",
        "  samplemean = sample.mean()\n",
        "  married_sample_means.append(samplemean)"
      ],
      "metadata": {
        "id": "LjZVqz6kF4Xt"
      },
      "execution_count": null,
      "outputs": []
    },
    {
      "cell_type": "code",
      "source": [
        "sns.histplot(married_sample_means)"
      ],
      "metadata": {
        "colab": {
          "base_uri": "https://localhost:8080/",
          "height": 447
        },
        "id": "zTjojEsaGKyN",
        "outputId": "32965dd8-1ad1-4cdd-fe69-8ead10ac5fc0"
      },
      "execution_count": null,
      "outputs": [
        {
          "output_type": "execute_result",
          "data": {
            "text/plain": [
              "<Axes: ylabel='Count'>"
            ]
          },
          "metadata": {},
          "execution_count": 135
        },
        {
          "output_type": "display_data",
          "data": {
            "text/plain": [
              "<Figure size 640x480 with 1 Axes>"
            ],
            "image/png": "[encoded data removed]"
          },
          "metadata": {}
        }
      ]
    },
    {
      "cell_type": "markdown",
      "source": [
        "**90%**"
      ],
      "metadata": {
        "id": "9iRFqLL4hito"
      }
    },
    {
      "cell_type": "code",
      "source": [
        "np.percentile(married_sample_means,[5.0,95.0])"
      ],
      "metadata": {
        "colab": {
          "base_uri": "https://localhost:8080/"
        },
        "id": "5vZcdYGUGP1S",
        "outputId": "378049b9-6c00-4408-91b2-9694fd1a5edd"
      },
      "execution_count": null,
      "outputs": [
        {
          "output_type": "execute_result",
          "data": {
            "text/plain": [
              "array([9245.27669335, 9278.9511718 ])"
            ]
          },
          "metadata": {},
          "execution_count": 136
        }
      ]
    },
    {
      "cell_type": "markdown",
      "source": [
        "**95%**"
      ],
      "metadata": {
        "id": "0zX_qAezhn8i"
      }
    },
    {
      "cell_type": "code",
      "source": [
        "np.percentile(married_sample_means,[2.5,97.5])"
      ],
      "metadata": {
        "colab": {
          "base_uri": "https://localhost:8080/"
        },
        "id": "SjPvpjpuGWEo",
        "outputId": "825ce3dd-8c0a-4cc7-dc37-f3e2f5715601"
      },
      "execution_count": null,
      "outputs": [
        {
          "output_type": "execute_result",
          "data": {
            "text/plain": [
              "array([9241.69126519, 9281.67838382])"
            ]
          },
          "metadata": {},
          "execution_count": 137
        }
      ]
    },
    {
      "cell_type": "markdown",
      "source": [
        "**99%**"
      ],
      "metadata": {
        "id": "t5Zkz8qQhqcO"
      }
    },
    {
      "cell_type": "code",
      "source": [
        "np.percentile(married_sample_means,[.5,99.5])"
      ],
      "metadata": {
        "colab": {
          "base_uri": "https://localhost:8080/"
        },
        "id": "7lGrpUkeGbmV",
        "outputId": "849d491b-0ff5-40b5-9abb-8b6d4508fb99"
      },
      "execution_count": null,
      "outputs": [
        {
          "output_type": "execute_result",
          "data": {
            "text/plain": [
              "array([9235.10214412, 9286.30876354])"
            ]
          },
          "metadata": {},
          "execution_count": 138
        }
      ]
    },
    {
      "cell_type": "markdown",
      "source": [
        "**Conclusion:**\n",
        "\n",
        "There are equal participation from both married and unmarried customers, and thier confidence intervals are overlapping."
      ],
      "metadata": {
        "id": "j4xR9ugX24jS"
      }
    },
    {
      "cell_type": "markdown",
      "source": [
        "**Confidence interval for spendings of different age groups:**"
      ],
      "metadata": {
        "id": "2QeXC_Ebht0c"
      }
    },
    {
      "cell_type": "code",
      "source": [
        "df.Age.unique()"
      ],
      "metadata": {
        "colab": {
          "base_uri": "https://localhost:8080/"
        },
        "id": "V8hoOxYzGemH",
        "outputId": "cf102ea2-dbc6-47f2-95d1-ce970c6091a3"
      },
      "execution_count": null,
      "outputs": [
        {
          "output_type": "execute_result",
          "data": {
            "text/plain": [
              "array(['0-17', '55+', '26-35', '46-50', '51-55', '36-45', '18-25'],\n",
              "      dtype=object)"
            ]
          },
          "metadata": {},
          "execution_count": 139
        }
      ]
    },
    {
      "cell_type": "code",
      "source": [
        "age_17_purchase = df.query('Age == \"0-17\"').Purchase\n",
        "age_25_purchase = df.query('Age == \"18-25\"').Purchase\n",
        "age_35_purchase = df.query('Age == \"26-35\"').Purchase\n",
        "age_45_purchase = df.query('Age == \"36-45\"').Purchase\n",
        "age_50_purchase = df.query('Age == \"46-50\"').Purchase\n",
        "age_55_purchase = df.query('Age == \"51-55\"').Purchase\n",
        "age_55plus_purchase = df.query('Age == \"55+\"').Purchase"
      ],
      "metadata": {
        "id": "rweWQ-fAHAJa"
      },
      "execution_count": null,
      "outputs": []
    },
    {
      "cell_type": "markdown",
      "source": [
        "**Confidence interval for 0-17 age group:**"
      ],
      "metadata": {
        "id": "6dpXjJ9Th7lA"
      }
    },
    {
      "cell_type": "code",
      "source": [
        "age_17_sample_means = []\n",
        "for i in range(1000):\n",
        "  sample = np.random.choice(age_17_purchase,size=len(age_17_purchase))\n",
        "  samplemean = sample.mean()\n",
        "  age_17_sample_means.append(samplemean)"
      ],
      "metadata": {
        "id": "olAnHBlAIFeA"
      },
      "execution_count": null,
      "outputs": []
    },
    {
      "cell_type": "code",
      "source": [
        "age_17_purchase.mean()"
      ],
      "metadata": {
        "colab": {
          "base_uri": "https://localhost:8080/"
        },
        "id": "MpMLZRjmKPc3",
        "outputId": "68bcea71-4500-4eb9-ad2b-271c83d76308"
      },
      "execution_count": null,
      "outputs": [
        {
          "output_type": "execute_result",
          "data": {
            "text/plain": [
              "8933.464640444974"
            ]
          },
          "metadata": {},
          "execution_count": 156
        }
      ]
    },
    {
      "cell_type": "code",
      "source": [
        "sns.histplot(age_17_sample_means)"
      ],
      "metadata": {
        "colab": {
          "base_uri": "https://localhost:8080/",
          "height": 447
        },
        "id": "9HRv_jFnKiDY",
        "outputId": "540c4eeb-06f0-4a95-baad-dca6ac1175f5"
      },
      "execution_count": null,
      "outputs": [
        {
          "output_type": "execute_result",
          "data": {
            "text/plain": [
              "<Axes: ylabel='Count'>"
            ]
          },
          "metadata": {},
          "execution_count": 157
        },
        {
          "output_type": "display_data",
          "data": {
            "text/plain": [
              "<Figure size 640x480 with 1 Axes>"
            ],
            "image/png": "[encoded data removed]"
          },
          "metadata": {}
        }
      ]
    },
    {
      "cell_type": "markdown",
      "source": [
        "**90%**"
      ],
      "metadata": {
        "id": "mviKQUjCiGgX"
      }
    },
    {
      "cell_type": "code",
      "source": [
        "np.percentile(age_17_sample_means,[5,95])"
      ],
      "metadata": {
        "colab": {
          "base_uri": "https://localhost:8080/"
        },
        "id": "b9bALr_4KnmZ",
        "outputId": "8793ac0e-faca-46eb-d7d6-bbf0ebf8a122"
      },
      "execution_count": null,
      "outputs": [
        {
          "output_type": "execute_result",
          "data": {
            "text/plain": [
              "array([8872.68080718, 9005.12011654])"
            ]
          },
          "metadata": {},
          "execution_count": 158
        }
      ]
    },
    {
      "cell_type": "markdown",
      "source": [
        "**95%**"
      ],
      "metadata": {
        "id": "itooquD5iJFb"
      }
    },
    {
      "cell_type": "code",
      "source": [
        "np.percentile(age_17_sample_means,[2.5,97.5])"
      ],
      "metadata": {
        "colab": {
          "base_uri": "https://localhost:8080/"
        },
        "id": "_c3yTX_xKxBO",
        "outputId": "e5a23692-837e-4a14-8b9a-a189057b8e94"
      },
      "execution_count": null,
      "outputs": [
        {
          "output_type": "execute_result",
          "data": {
            "text/plain": [
              "array([8858.32378824, 9021.3152397 ])"
            ]
          },
          "metadata": {},
          "execution_count": 159
        }
      ]
    },
    {
      "cell_type": "markdown",
      "source": [
        "**99%**"
      ],
      "metadata": {
        "id": "Mrf0eVJNiLZD"
      }
    },
    {
      "cell_type": "code",
      "source": [
        "np.percentile(age_17_sample_means,[.5,99.5])"
      ],
      "metadata": {
        "colab": {
          "base_uri": "https://localhost:8080/"
        },
        "id": "SvESzFVrK2cJ",
        "outputId": "e7c12c12-b736-41b5-9ad9-e64cf68e1cff"
      },
      "execution_count": null,
      "outputs": [
        {
          "output_type": "execute_result",
          "data": {
            "text/plain": [
              "array([8841.93453615, 9047.15811647])"
            ]
          },
          "metadata": {},
          "execution_count": 160
        }
      ]
    },
    {
      "cell_type": "markdown",
      "source": [
        "**Confidence interval for 18-25 age group:**"
      ],
      "metadata": {
        "id": "zb7aCwqJiOXw"
      }
    },
    {
      "cell_type": "code",
      "source": [
        "age_25_sample_means = []\n",
        "for i in range(1000):\n",
        "  sample = np.random.choice(age_25_purchase,size=len(age_25_purchase))\n",
        "  samplemean = sample.mean()\n",
        "  age_25_sample_means.append(samplemean)"
      ],
      "metadata": {
        "id": "Dd6gybjVK-Z0"
      },
      "execution_count": null,
      "outputs": []
    },
    {
      "cell_type": "code",
      "source": [
        "age_25_purchase.mean()"
      ],
      "metadata": {
        "colab": {
          "base_uri": "https://localhost:8080/"
        },
        "id": "fFD2yOKs3T-l",
        "outputId": "f3167a3d-5439-4bc6-9221-152324797702"
      },
      "execution_count": null,
      "outputs": [
        {
          "output_type": "execute_result",
          "data": {
            "text/plain": [
              "9169.663606261289"
            ]
          },
          "metadata": {},
          "execution_count": 200
        }
      ]
    },
    {
      "cell_type": "code",
      "source": [
        "sns.histplot(age_25_sample_means)"
      ],
      "metadata": {
        "colab": {
          "base_uri": "https://localhost:8080/",
          "height": 447
        },
        "id": "evr9mPoULwtV",
        "outputId": "732359db-ca39-49ba-ad7d-4b4bc17a4dfb"
      },
      "execution_count": null,
      "outputs": [
        {
          "output_type": "execute_result",
          "data": {
            "text/plain": [
              "<Axes: ylabel='Count'>"
            ]
          },
          "metadata": {},
          "execution_count": 162
        },
        {
          "output_type": "display_data",
          "data": {
            "text/plain": [
              "<Figure size 640x480 with 1 Axes>"
            ],
            "image/png": "[encoded data removed]"
          },
          "metadata": {}
        }
      ]
    },
    {
      "cell_type": "markdown",
      "source": [
        "**90%**"
      ],
      "metadata": {
        "id": "o598CQI4iYIP"
      }
    },
    {
      "cell_type": "code",
      "source": [
        "np.percentile(age_25_sample_means,[5,95])"
      ],
      "metadata": {
        "colab": {
          "base_uri": "https://localhost:8080/"
        },
        "id": "h916Gax5L3rH",
        "outputId": "be6717de-81de-445a-8755-bc2c2239e4c6"
      },
      "execution_count": null,
      "outputs": [
        {
          "output_type": "execute_result",
          "data": {
            "text/plain": [
              "array([9143.44908991, 9196.46355007])"
            ]
          },
          "metadata": {},
          "execution_count": 163
        }
      ]
    },
    {
      "cell_type": "markdown",
      "source": [
        "**95%**"
      ],
      "metadata": {
        "id": "XJRSE5fwiaPQ"
      }
    },
    {
      "cell_type": "code",
      "source": [
        "np.percentile(age_25_sample_means,[2.5,97.5])"
      ],
      "metadata": {
        "colab": {
          "base_uri": "https://localhost:8080/"
        },
        "id": "M7Xchsv7MCDV",
        "outputId": "5c4cc099-fa55-4a9f-c5f3-688486c81331"
      },
      "execution_count": null,
      "outputs": [
        {
          "output_type": "execute_result",
          "data": {
            "text/plain": [
              "array([9139.33503387, 9203.33526942])"
            ]
          },
          "metadata": {},
          "execution_count": 164
        }
      ]
    },
    {
      "cell_type": "markdown",
      "source": [
        "**99%**"
      ],
      "metadata": {
        "id": "OtNzaYOCic3T"
      }
    },
    {
      "cell_type": "code",
      "source": [
        "np.percentile(age_25_sample_means,[.5,99.5])"
      ],
      "metadata": {
        "colab": {
          "base_uri": "https://localhost:8080/"
        },
        "id": "xDCPfOCWMGyB",
        "outputId": "27cbd534-9920-4086-e513-396b41ef7acb"
      },
      "execution_count": null,
      "outputs": [
        {
          "output_type": "execute_result",
          "data": {
            "text/plain": [
              "array([9128.34159633, 9212.08481387])"
            ]
          },
          "metadata": {},
          "execution_count": 165
        }
      ]
    },
    {
      "cell_type": "markdown",
      "source": [
        "**Confidence interval for 26-35 age group:**"
      ],
      "metadata": {
        "id": "NJ2goIMLifdB"
      }
    },
    {
      "cell_type": "code",
      "source": [
        "age_35_sample_means = []\n",
        "for i in range(1000):\n",
        "  sample = np.random.choice(age_35_purchase,size=len(age_35_purchase))\n",
        "  samplemean = sample.mean()\n",
        "  age_35_sample_means.append(samplemean)"
      ],
      "metadata": {
        "id": "po0K_syzMMa4"
      },
      "execution_count": null,
      "outputs": []
    },
    {
      "cell_type": "code",
      "source": [
        "age_35_purchase.mean()"
      ],
      "metadata": {
        "colab": {
          "base_uri": "https://localhost:8080/"
        },
        "id": "hDatxn353YD2",
        "outputId": "c554163f-80a1-4100-bd24-1d43639749dc"
      },
      "execution_count": null,
      "outputs": [
        {
          "output_type": "execute_result",
          "data": {
            "text/plain": [
              "9252.690632869888"
            ]
          },
          "metadata": {},
          "execution_count": 201
        }
      ]
    },
    {
      "cell_type": "code",
      "source": [
        "sns.histplot(age_35_sample_means)"
      ],
      "metadata": {
        "colab": {
          "base_uri": "https://localhost:8080/",
          "height": 447
        },
        "id": "oKWDfJCviyIA",
        "outputId": "e99ec96e-be2a-4159-916e-bb762417a762"
      },
      "execution_count": null,
      "outputs": [
        {
          "output_type": "execute_result",
          "data": {
            "text/plain": [
              "<Axes: ylabel='Count'>"
            ]
          },
          "metadata": {},
          "execution_count": 176
        },
        {
          "output_type": "display_data",
          "data": {
            "text/plain": [
              "<Figure size 640x480 with 1 Axes>"
            ],
            "image/png": "[encoded data removed]"
          },
          "metadata": {}
        }
      ]
    },
    {
      "cell_type": "markdown",
      "source": [
        "**90%**"
      ],
      "metadata": {
        "id": "nRYVcWVZi-dp"
      }
    },
    {
      "cell_type": "code",
      "source": [
        "np.percentile(age_35_sample_means,[5,95])"
      ],
      "metadata": {
        "colab": {
          "base_uri": "https://localhost:8080/"
        },
        "id": "j3LPbsVki71i",
        "outputId": "b7877eb5-86a6-44e8-fcb9-9b0c77a29bb3"
      },
      "execution_count": null,
      "outputs": [
        {
          "output_type": "execute_result",
          "data": {
            "text/plain": [
              "array([9235.17215432, 9270.75395561])"
            ]
          },
          "metadata": {},
          "execution_count": 177
        }
      ]
    },
    {
      "cell_type": "markdown",
      "source": [
        "**95%**"
      ],
      "metadata": {
        "id": "c8tWTNi_jGrN"
      }
    },
    {
      "cell_type": "code",
      "source": [
        "np.percentile(age_35_sample_means,[2.5,97.5])"
      ],
      "metadata": {
        "colab": {
          "base_uri": "https://localhost:8080/"
        },
        "id": "VzWA9zvojIMN",
        "outputId": "f3b074bd-2c9b-40bd-ae1b-55f5353d86c9"
      },
      "execution_count": null,
      "outputs": [
        {
          "output_type": "execute_result",
          "data": {
            "text/plain": [
              "array([9231.89125415, 9274.39085385])"
            ]
          },
          "metadata": {},
          "execution_count": 179
        }
      ]
    },
    {
      "cell_type": "markdown",
      "source": [
        "**99%**"
      ],
      "metadata": {
        "id": "fVBNJzCajOK5"
      }
    },
    {
      "cell_type": "code",
      "source": [
        "np.percentile(age_35_sample_means,[.5,99.5])"
      ],
      "metadata": {
        "colab": {
          "base_uri": "https://localhost:8080/"
        },
        "id": "r0xAvOr_jQVL",
        "outputId": "d478bfdf-de73-4fe6-b0c2-f4fbdde9bc50"
      },
      "execution_count": null,
      "outputs": [
        {
          "output_type": "execute_result",
          "data": {
            "text/plain": [
              "array([9225.11449114, 9285.38987151])"
            ]
          },
          "metadata": {},
          "execution_count": 178
        }
      ]
    },
    {
      "cell_type": "markdown",
      "source": [
        "**Confidence interval for 36-45 age group:**"
      ],
      "metadata": {
        "id": "kRMvFEA3jVo3"
      }
    },
    {
      "cell_type": "code",
      "source": [
        "age_45_sample_means = []\n",
        "for i in range(1000):\n",
        "  sample = np.random.choice(age_45_purchase,size=len(age_45_purchase))\n",
        "  samplemean = sample.mean()\n",
        "  age_45_sample_means.append(samplemean)"
      ],
      "metadata": {
        "id": "QqdX4RSjjeN4"
      },
      "execution_count": null,
      "outputs": []
    },
    {
      "cell_type": "code",
      "source": [
        "age_45_purchase.mean()"
      ],
      "metadata": {
        "colab": {
          "base_uri": "https://localhost:8080/"
        },
        "id": "m_qIyQYG3dOH",
        "outputId": "7471e6b2-92bd-455f-d63f-afbe45a84bd5"
      },
      "execution_count": null,
      "outputs": [
        {
          "output_type": "execute_result",
          "data": {
            "text/plain": [
              "9331.350694917874"
            ]
          },
          "metadata": {},
          "execution_count": 202
        }
      ]
    },
    {
      "cell_type": "code",
      "source": [
        "sns.histplot(age_45_sample_means)"
      ],
      "metadata": {
        "colab": {
          "base_uri": "https://localhost:8080/",
          "height": 447
        },
        "id": "y6HtigJWjnCC",
        "outputId": "74930318-fd7c-4434-948d-c8e0a1a78f3a"
      },
      "execution_count": null,
      "outputs": [
        {
          "output_type": "execute_result",
          "data": {
            "text/plain": [
              "<Axes: ylabel='Count'>"
            ]
          },
          "metadata": {},
          "execution_count": 181
        },
        {
          "output_type": "display_data",
          "data": {
            "text/plain": [
              "<Figure size 640x480 with 1 Axes>"
            ],
            "image/png": "[encoded data removed]"
          },
          "metadata": {}
        }
      ]
    },
    {
      "cell_type": "markdown",
      "source": [
        "**90%**"
      ],
      "metadata": {
        "id": "7nsGRS0qjsKa"
      }
    },
    {
      "cell_type": "code",
      "source": [
        "np.percentile(age_45_sample_means,[5,95])"
      ],
      "metadata": {
        "colab": {
          "base_uri": "https://localhost:8080/"
        },
        "id": "gvuixFEljrSJ",
        "outputId": "cba53fd0-45f8-4cbb-be9c-1c0fb6c17b91"
      },
      "execution_count": null,
      "outputs": [
        {
          "output_type": "execute_result",
          "data": {
            "text/plain": [
              "array([9305.90927481, 9355.7073455 ])"
            ]
          },
          "metadata": {},
          "execution_count": 182
        }
      ]
    },
    {
      "cell_type": "markdown",
      "source": [
        "**95%**"
      ],
      "metadata": {
        "id": "gvSomwKYj3-F"
      }
    },
    {
      "cell_type": "code",
      "source": [
        "np.percentile(age_45_sample_means,[2.5,97.5])"
      ],
      "metadata": {
        "colab": {
          "base_uri": "https://localhost:8080/"
        },
        "id": "eNhRS7FDj5uv",
        "outputId": "aea2d38c-22ba-4c1c-97f0-fe5d195b7617"
      },
      "execution_count": null,
      "outputs": [
        {
          "output_type": "execute_result",
          "data": {
            "text/plain": [
              "array([9302.61854849, 9359.15670966])"
            ]
          },
          "metadata": {},
          "execution_count": 183
        }
      ]
    },
    {
      "cell_type": "markdown",
      "source": [
        "**99%**"
      ],
      "metadata": {
        "id": "QxQXBWRoj-Gq"
      }
    },
    {
      "cell_type": "code",
      "source": [
        "np.percentile(age_45_sample_means,[.5,99.5])"
      ],
      "metadata": {
        "colab": {
          "base_uri": "https://localhost:8080/"
        },
        "id": "9alCTrB5j9Lp",
        "outputId": "6822838c-0fa8-4172-b8a1-f483432fc907"
      },
      "execution_count": null,
      "outputs": [
        {
          "output_type": "execute_result",
          "data": {
            "text/plain": [
              "array([9293.56734336, 9366.22845468])"
            ]
          },
          "metadata": {},
          "execution_count": 184
        }
      ]
    },
    {
      "cell_type": "markdown",
      "source": [
        "**Confidence interval for 46-50 age group:**"
      ],
      "metadata": {
        "id": "W0MXC3OgkFyl"
      }
    },
    {
      "cell_type": "code",
      "source": [
        "age_50_sample_means = []\n",
        "for i in range(1000):\n",
        "  sample = np.random.choice(age_50_purchase,size=len(age_50_purchase))\n",
        "  samplemean = sample.mean()\n",
        "  age_50_sample_means.append(samplemean)"
      ],
      "metadata": {
        "id": "dRzemku0kNcq"
      },
      "execution_count": null,
      "outputs": []
    },
    {
      "cell_type": "code",
      "source": [
        "age_50_purchase.mean()"
      ],
      "metadata": {
        "colab": {
          "base_uri": "https://localhost:8080/"
        },
        "id": "h0ck--YP3hal",
        "outputId": "75772a14-e682-4ccd-895e-fe976500089e"
      },
      "execution_count": null,
      "outputs": [
        {
          "output_type": "execute_result",
          "data": {
            "text/plain": [
              "9208.625697468327"
            ]
          },
          "metadata": {},
          "execution_count": 203
        }
      ]
    },
    {
      "cell_type": "code",
      "source": [
        "sns.histplot(age_50_sample_means)"
      ],
      "metadata": {
        "colab": {
          "base_uri": "https://localhost:8080/",
          "height": 447
        },
        "id": "o4kB0wmEuTXg",
        "outputId": "02b2fff0-15df-4f97-aca3-a85c350e901c"
      },
      "execution_count": null,
      "outputs": [
        {
          "output_type": "execute_result",
          "data": {
            "text/plain": [
              "<Axes: ylabel='Count'>"
            ]
          },
          "metadata": {},
          "execution_count": 186
        },
        {
          "output_type": "display_data",
          "data": {
            "text/plain": [
              "<Figure size 640x480 with 1 Axes>"
            ],
            "image/png": "[encoded data removed]"
          },
          "metadata": {}
        }
      ]
    },
    {
      "cell_type": "markdown",
      "source": [
        "**90%**"
      ],
      "metadata": {
        "id": "PUilLwcmuZk5"
      }
    },
    {
      "cell_type": "code",
      "source": [
        "np.percentile(age_50_sample_means,[5,95])"
      ],
      "metadata": {
        "colab": {
          "base_uri": "https://localhost:8080/"
        },
        "id": "JQ0POC65uYjl",
        "outputId": "89402bec-ff02-4057-8268-2eb27e96cede"
      },
      "execution_count": null,
      "outputs": [
        {
          "output_type": "execute_result",
          "data": {
            "text/plain": [
              "array([9171.63745323, 9245.47258266])"
            ]
          },
          "metadata": {},
          "execution_count": 187
        }
      ]
    },
    {
      "cell_type": "markdown",
      "source": [
        "**95%**"
      ],
      "metadata": {
        "id": "GTaaAaHcui1x"
      }
    },
    {
      "cell_type": "code",
      "source": [
        "np.percentile(age_50_sample_means,[2.5,97.5])"
      ],
      "metadata": {
        "colab": {
          "base_uri": "https://localhost:8080/"
        },
        "id": "r89eAqgvuh0x",
        "outputId": "5c2f282f-ce95-4e07-a49d-016b9c5b634a"
      },
      "execution_count": null,
      "outputs": [
        {
          "output_type": "execute_result",
          "data": {
            "text/plain": [
              "array([9166.54214514, 9249.43096705])"
            ]
          },
          "metadata": {},
          "execution_count": 188
        }
      ]
    },
    {
      "cell_type": "markdown",
      "source": [
        "**99%**"
      ],
      "metadata": {
        "id": "j2xZv2w1uny0"
      }
    },
    {
      "cell_type": "code",
      "source": [
        "np.percentile(age_50_sample_means,[.5,99.5])"
      ],
      "metadata": {
        "colab": {
          "base_uri": "https://localhost:8080/"
        },
        "id": "5QyU7EXvup4C",
        "outputId": "2de5d9ce-0821-41e5-a867-6106fc0dc8ea"
      },
      "execution_count": null,
      "outputs": [
        {
          "output_type": "execute_result",
          "data": {
            "text/plain": [
              "array([9155.59153673, 9262.83752412])"
            ]
          },
          "metadata": {},
          "execution_count": 189
        }
      ]
    },
    {
      "cell_type": "markdown",
      "source": [
        "**Confidence interval for 51-55 age group:**"
      ],
      "metadata": {
        "id": "4_Z5j_iautVE"
      }
    },
    {
      "cell_type": "code",
      "source": [
        "age_55_sample_means = []\n",
        "for i in range(1000):\n",
        "  sample = np.random.choice(age_55_purchase,size=len(age_55_purchase))\n",
        "  samplemean = sample.mean()\n",
        "  age_55_sample_means.append(samplemean)"
      ],
      "metadata": {
        "id": "LgR7xG9DuzH-"
      },
      "execution_count": null,
      "outputs": []
    },
    {
      "cell_type": "code",
      "source": [
        "age_55_purchase.mean()"
      ],
      "metadata": {
        "colab": {
          "base_uri": "https://localhost:8080/"
        },
        "id": "ZtIYBVmf3mEm",
        "outputId": "7a767bd8-3e27-4bc6-ced7-9884aafe17a9"
      },
      "execution_count": null,
      "outputs": [
        {
          "output_type": "execute_result",
          "data": {
            "text/plain": [
              "9534.808030960236"
            ]
          },
          "metadata": {},
          "execution_count": 204
        }
      ]
    },
    {
      "cell_type": "code",
      "source": [
        "sns.histplot(age_55_sample_means)"
      ],
      "metadata": {
        "colab": {
          "base_uri": "https://localhost:8080/",
          "height": 447
        },
        "id": "YIIngJ41u5xi",
        "outputId": "fce13382-1db2-4cc6-9e8f-2bfe7e5e97d5"
      },
      "execution_count": null,
      "outputs": [
        {
          "output_type": "execute_result",
          "data": {
            "text/plain": [
              "<Axes: ylabel='Count'>"
            ]
          },
          "metadata": {},
          "execution_count": 191
        },
        {
          "output_type": "display_data",
          "data": {
            "text/plain": [
              "<Figure size 640x480 with 1 Axes>"
            ],
            "image/png": "[encoded data removed]"
          },
          "metadata": {}
        }
      ]
    },
    {
      "cell_type": "markdown",
      "source": [
        "**90%**"
      ],
      "metadata": {
        "id": "MouC5MKiu-HJ"
      }
    },
    {
      "cell_type": "code",
      "source": [
        "np.percentile(age_55_sample_means,[5,95])"
      ],
      "metadata": {
        "colab": {
          "base_uri": "https://localhost:8080/"
        },
        "id": "ccyJ9CFCu9FC",
        "outputId": "bc2e24b3-1451-4425-b1c4-81944845a782"
      },
      "execution_count": null,
      "outputs": [
        {
          "output_type": "execute_result",
          "data": {
            "text/plain": [
              "array([9493.46963455, 9580.12314485])"
            ]
          },
          "metadata": {},
          "execution_count": 192
        }
      ]
    },
    {
      "cell_type": "markdown",
      "source": [
        "**95%**"
      ],
      "metadata": {
        "id": "reTyaddNvJXm"
      }
    },
    {
      "cell_type": "code",
      "source": [
        "np.percentile(age_55_sample_means,[2.5,97.5])"
      ],
      "metadata": {
        "colab": {
          "base_uri": "https://localhost:8080/"
        },
        "id": "U-JF5nPPvFVA",
        "outputId": "9f553741-0bff-4909-ee2a-d998cb15d0b3"
      },
      "execution_count": null,
      "outputs": [
        {
          "output_type": "execute_result",
          "data": {
            "text/plain": [
              "array([9486.83266344, 9588.2907918 ])"
            ]
          },
          "metadata": {},
          "execution_count": 193
        }
      ]
    },
    {
      "cell_type": "markdown",
      "source": [
        "**99%**"
      ],
      "metadata": {
        "id": "qJKptzz-vObz"
      }
    },
    {
      "cell_type": "code",
      "source": [
        "np.percentile(age_55_sample_means,[.5,99.5])"
      ],
      "metadata": {
        "colab": {
          "base_uri": "https://localhost:8080/"
        },
        "id": "NJ4AUaOqvHJC",
        "outputId": "afd9edd5-dba3-4c43-c87e-126fd889cc70"
      },
      "execution_count": null,
      "outputs": [
        {
          "output_type": "execute_result",
          "data": {
            "text/plain": [
              "array([9475.73722942, 9600.86155282])"
            ]
          },
          "metadata": {},
          "execution_count": 194
        }
      ]
    },
    {
      "cell_type": "markdown",
      "source": [
        "**Confidence interval for 50+ age group:**"
      ],
      "metadata": {
        "id": "QW6rObaCvZPe"
      }
    },
    {
      "cell_type": "code",
      "source": [
        "age_55plus_sample_means = []\n",
        "for i in range(1000):\n",
        "  sample = np.random.choice(age_55plus_purchase,size=len(age_55plus_purchase))\n",
        "  samplemean = sample.mean()\n",
        "  age_55plus_sample_means.append(samplemean)"
      ],
      "metadata": {
        "id": "h_fM3G-IvUp9"
      },
      "execution_count": null,
      "outputs": []
    },
    {
      "cell_type": "code",
      "source": [
        "age_55plus_purchase.mean()"
      ],
      "metadata": {
        "colab": {
          "base_uri": "https://localhost:8080/"
        },
        "id": "5N1kPnwB3qLd",
        "outputId": "b1282d4e-d0ac-4abc-cde4-dd478871edfb"
      },
      "execution_count": null,
      "outputs": [
        {
          "output_type": "execute_result",
          "data": {
            "text/plain": [
              "9336.280459449405"
            ]
          },
          "metadata": {},
          "execution_count": 205
        }
      ]
    },
    {
      "cell_type": "code",
      "source": [
        "sns.histplot(age_55plus_sample_means)"
      ],
      "metadata": {
        "colab": {
          "base_uri": "https://localhost:8080/",
          "height": 447
        },
        "id": "hLf6iBLHvmuj",
        "outputId": "410a19db-8d9e-4dbd-cedf-94014ba92ea3"
      },
      "execution_count": null,
      "outputs": [
        {
          "output_type": "execute_result",
          "data": {
            "text/plain": [
              "<Axes: ylabel='Count'>"
            ]
          },
          "metadata": {},
          "execution_count": 196
        },
        {
          "output_type": "display_data",
          "data": {
            "text/plain": [
              "<Figure size 640x480 with 1 Axes>"
            ],
            "image/png": "[encoded data removed]"
          },
          "metadata": {}
        }
      ]
    },
    {
      "cell_type": "markdown",
      "source": [
        "**90%**"
      ],
      "metadata": {
        "id": "XA71-1uRvrPD"
      }
    },
    {
      "cell_type": "code",
      "source": [
        "np.percentile(age_55plus_sample_means,[5,95])"
      ],
      "metadata": {
        "colab": {
          "base_uri": "https://localhost:8080/"
        },
        "id": "An5MkqoZvqJC",
        "outputId": "d7682ebe-39d0-4ae2-bd99-d196f35cdfc6"
      },
      "execution_count": null,
      "outputs": [
        {
          "output_type": "execute_result",
          "data": {
            "text/plain": [
              "array([9278.98078962, 9387.04146438])"
            ]
          },
          "metadata": {},
          "execution_count": 197
        }
      ]
    },
    {
      "cell_type": "markdown",
      "source": [
        "**95%**"
      ],
      "metadata": {
        "id": "-TDPpVCGv1hf"
      }
    },
    {
      "cell_type": "code",
      "source": [
        "np.percentile(age_55plus_sample_means,[2.5,97.5])"
      ],
      "metadata": {
        "colab": {
          "base_uri": "https://localhost:8080/"
        },
        "id": "EFGxCCnAvyRV",
        "outputId": "c46093f7-ad7e-442e-d20d-f9f15784cc74"
      },
      "execution_count": null,
      "outputs": [
        {
          "output_type": "execute_result",
          "data": {
            "text/plain": [
              "array([9269.79500442, 9397.96926735])"
            ]
          },
          "metadata": {},
          "execution_count": 198
        }
      ]
    },
    {
      "cell_type": "markdown",
      "source": [
        "**99%**"
      ],
      "metadata": {
        "id": "mop9aIHXv4IL"
      }
    },
    {
      "cell_type": "code",
      "source": [
        "np.percentile(age_55plus_sample_means,[.5,99.5])"
      ],
      "metadata": {
        "colab": {
          "base_uri": "https://localhost:8080/"
        },
        "id": "CYo0RqF1v6YZ",
        "outputId": "dc347005-1222-471b-8845-424a21ededde"
      },
      "execution_count": null,
      "outputs": [
        {
          "output_type": "execute_result",
          "data": {
            "text/plain": [
              "array([9253.55229143, 9411.59165992])"
            ]
          },
          "metadata": {},
          "execution_count": 199
        }
      ]
    },
    {
      "cell_type": "markdown",
      "source": [
        "# Final Insights"
      ],
      "metadata": {
        "id": "gsrOhVdav-Q5"
      }
    },
    {
      "cell_type": "markdown",
      "source": [
        "\n",
        "\n",
        "*   Participation of female customers is really low compared to male customers\n",
        "*   Confidence interval of married and unmarried customers is almost same\n",
        "*   participation of customers from age group of 25-45 is larger but thier spending is almost equal to other age groups\n",
        "*   most spending is done between price range of 5k to 10k\n",
        "\n"
      ],
      "metadata": {
        "id": "ymzeb_VwwCym"
      }
    },
    {
      "cell_type": "markdown",
      "source": [
        "# Recommendations"
      ],
      "metadata": {
        "id": "-hLN3mWO40bE"
      }
    },
    {
      "cell_type": "markdown",
      "source": [
        "\n",
        "\n",
        "*   Urgent action is needed to increase the participation of female customers\n",
        "*   Formulate a strategy to increase the spending of the customers from age group of 25-45\n",
        "*   Focus on the highest spending confidence intervals\n",
        "\n"
      ],
      "metadata": {
        "id": "gK_dZbP943qB"
      }
    }
  ]
}